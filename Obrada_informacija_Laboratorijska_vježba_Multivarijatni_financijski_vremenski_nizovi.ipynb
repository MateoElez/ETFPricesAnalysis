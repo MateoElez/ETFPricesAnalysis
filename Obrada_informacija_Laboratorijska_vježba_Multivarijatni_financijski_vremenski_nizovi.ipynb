{
  "nbformat": 4,
  "nbformat_minor": 0,
  "metadata": {
    "kernelspec": {
      "display_name": "Python 3",
      "language": "python",
      "name": "python3"
    },
    "language_info": {
      "codemirror_mode": {
        "name": "ipython",
        "version": 3
      },
      "file_extension": ".py",
      "mimetype": "text/x-python",
      "name": "python",
      "nbconvert_exporter": "python",
      "pygments_lexer": "ipython3",
      "version": "3.6.9"
    },
    "colab": {
      "name": "Obrada_informacija_Laboratorijska_vježba_Multivarijatni_financijski_vremenski_nizovi.ipynb",
      "provenance": [],
      "collapsed_sections": [
        "qJsxY4wL8mA5"
      ]
    }
  },
  "cells": [
    {
      "cell_type": "markdown",
      "metadata": {
        "id": "qJsxY4wL8mA5"
      },
      "source": [
        "###Obrada informacija\n",
        "\n",
        "#4. Laboratorijska vježba:  Multivarijatni financijski vremenski nizovi\n",
        "\n",
        "*Prosinac 2021.*\n",
        "\n",
        "##Upute\n",
        "\n",
        "U ovoj bilježnici dana je priprema sa svim uputama za 4. laboratorijsku vježbu iz predmeta Obrada informacija - uz bilježnicu su dostupni i podatci u datoteci `ETFprices.csv`. \n",
        "\n",
        "Vaš zadatak je u bilježnicu na odgovarajuća mjesta dopisati kod Vašeg rješenja, te odgovore na zadana pitanja.\n",
        "\n",
        "**Riješenu bilježnicu potrebno je predati kao izvještaj u .pdf formatu na *Moodle* najkasnije do 9.1.2022. u 23:59h. Datoteka koju predajete se mora zvati *PrezimeIme.pdf*.**\n",
        "\n"
      ]
    },
    {
      "cell_type": "markdown",
      "source": [
        "## Uvod\n",
        "\n",
        "U laboratorijskoj vježbi razmatra se dinamika cijena vrijednosnica na financijskim tržištima. Dane su povijesne dnevne cijene 8 ETF-ova (eng. *exchange traded fund*) koji prate određene dioničke, obvezničke ili druge indekse.\n",
        "\n",
        "Ticker | Fond | Klasa imovine\n",
        "--- | --- | ---\n",
        "SPY | SPDR S&P 500 ETF Trust | Equity: U.S. - Large Cap\n",
        "VTI | Vanguard Total Stock Market ETF | Equity: U.S. - Total Market\n",
        "QQQ | Invesco QQQ Trust | Equity: U.S. - Large Cap\n",
        "VEA | Vanguard FTSE Developed Markets ETF | Equity: Developed Markets Ex-U.S. - Total Market\n",
        "AGG | iShares Core U.S. Aggregate Bond ETF | Fixed Income: U.S. - Broad Market, Broad-based Investment Grade\n",
        "BND | Vanguard Total Bond Market ETF | Fixed Income: U.S. - Broad Market, Broad-based Investment Grade\n",
        "LQD | iShares iBoxx USD Investment Grade Corporate Bond ETF | Fixed Income: U.S. - Corporate, Broad-based Investment Grade\n",
        "VCIT | Vanguard Intermediate-Term Corporate Bond ETF | Fixed Income: U.S. - Corporate, Broad-based Investment Grade Intermediate\n",
        "\n",
        "Pri modeliranju zajedničkog kretanja i rizika vrijednosnica, najčešće se koriste povrati:\n",
        "\n",
        "$R(t) = \\frac{S(t)-S(t-1)}{S(t-1)},$\n",
        "\n",
        "gdje je $S(t)$ cijena vrijednosnice u danu $t$. U sklopu ove laboratorijske vježbe cilj je analizirati kretanje danih ETF-ova i izračunati glavne komponente (PCA) koje utječu na njihovu dinamiku. Laboratorijsku vježbu je potrebno riješiti unutar ove bilježnice i predati riješenu bilježnicu kao izvještaj."
      ],
      "metadata": {
        "id": "9IrYICOpFRgG"
      }
    },
    {
      "cell_type": "code",
      "metadata": {
        "id": "Y0gdMrX2oj6v",
        "colab": {
          "base_uri": "https://localhost:8080/",
          "height": 235
        },
        "outputId": "52f9b7db-1154-48d2-9bf1-6ef7c8d2174f"
      },
      "source": [
        "import pandas as pd\n",
        "\n",
        "prices = pd.read_csv('ETFprices.csv')\n",
        "prices.set_index('Time', inplace=True)\n",
        "prices.index = pd.to_datetime(prices.index)\n",
        "\n",
        "prices.head()\n"
      ],
      "execution_count": null,
      "outputs": [
        {
          "output_type": "execute_result",
          "data": {
            "text/html": [
              "<div>\n",
              "<style scoped>\n",
              "    .dataframe tbody tr th:only-of-type {\n",
              "        vertical-align: middle;\n",
              "    }\n",
              "\n",
              "    .dataframe tbody tr th {\n",
              "        vertical-align: top;\n",
              "    }\n",
              "\n",
              "    .dataframe thead th {\n",
              "        text-align: right;\n",
              "    }\n",
              "</style>\n",
              "<table border=\"1\" class=\"dataframe\">\n",
              "  <thead>\n",
              "    <tr style=\"text-align: right;\">\n",
              "      <th></th>\n",
              "      <th>SPY</th>\n",
              "      <th>VTI</th>\n",
              "      <th>QQQ</th>\n",
              "      <th>VEA</th>\n",
              "      <th>XLU</th>\n",
              "      <th>AGG</th>\n",
              "      <th>BND</th>\n",
              "      <th>LQD</th>\n",
              "    </tr>\n",
              "    <tr>\n",
              "      <th>Time</th>\n",
              "      <th></th>\n",
              "      <th></th>\n",
              "      <th></th>\n",
              "      <th></th>\n",
              "      <th></th>\n",
              "      <th></th>\n",
              "      <th></th>\n",
              "      <th></th>\n",
              "    </tr>\n",
              "  </thead>\n",
              "  <tbody>\n",
              "    <tr>\n",
              "      <th>2019-01-02</th>\n",
              "      <td>245.5347</td>\n",
              "      <td>125.3143</td>\n",
              "      <td>153.6161</td>\n",
              "      <td>35.8827</td>\n",
              "      <td>50.4377</td>\n",
              "      <td>103.6870</td>\n",
              "      <td>77.2074</td>\n",
              "      <td>109.3645</td>\n",
              "    </tr>\n",
              "    <tr>\n",
              "      <th>2019-01-03</th>\n",
              "      <td>239.6755</td>\n",
              "      <td>122.4103</td>\n",
              "      <td>148.5974</td>\n",
              "      <td>35.5922</td>\n",
              "      <td>50.4280</td>\n",
              "      <td>104.1151</td>\n",
              "      <td>77.5089</td>\n",
              "      <td>109.4129</td>\n",
              "    </tr>\n",
              "    <tr>\n",
              "      <th>2019-01-04</th>\n",
              "      <td>247.7036</td>\n",
              "      <td>126.4622</td>\n",
              "      <td>154.9550</td>\n",
              "      <td>36.6866</td>\n",
              "      <td>51.1747</td>\n",
              "      <td>103.8038</td>\n",
              "      <td>77.2755</td>\n",
              "      <td>109.3452</td>\n",
              "    </tr>\n",
              "    <tr>\n",
              "      <th>2019-01-07</th>\n",
              "      <td>249.6567</td>\n",
              "      <td>127.7376</td>\n",
              "      <td>156.7999</td>\n",
              "      <td>36.8028</td>\n",
              "      <td>50.8256</td>\n",
              "      <td>103.6286</td>\n",
              "      <td>77.1587</td>\n",
              "      <td>109.3549</td>\n",
              "    </tr>\n",
              "    <tr>\n",
              "      <th>2019-01-08</th>\n",
              "      <td>252.0023</td>\n",
              "      <td>129.0522</td>\n",
              "      <td>158.2182</td>\n",
              "      <td>37.0643</td>\n",
              "      <td>51.4560</td>\n",
              "      <td>103.5508</td>\n",
              "      <td>77.0615</td>\n",
              "      <td>109.5965</td>\n",
              "    </tr>\n",
              "  </tbody>\n",
              "</table>\n",
              "</div>"
            ],
            "text/plain": [
              "                 SPY       VTI       QQQ  ...       AGG      BND       LQD\n",
              "Time                                      ...                             \n",
              "2019-01-02  245.5347  125.3143  153.6161  ...  103.6870  77.2074  109.3645\n",
              "2019-01-03  239.6755  122.4103  148.5974  ...  104.1151  77.5089  109.4129\n",
              "2019-01-04  247.7036  126.4622  154.9550  ...  103.8038  77.2755  109.3452\n",
              "2019-01-07  249.6567  127.7376  156.7999  ...  103.6286  77.1587  109.3549\n",
              "2019-01-08  252.0023  129.0522  158.2182  ...  103.5508  77.0615  109.5965\n",
              "\n",
              "[5 rows x 8 columns]"
            ]
          },
          "metadata": {
            "tags": []
          },
          "execution_count": 3
        }
      ]
    },
    {
      "cell_type": "markdown",
      "metadata": {
        "id": "l3WCkur18mBD"
      },
      "source": [
        "# Zadatak 1 - Računanje korelacijske matrice i matrice kovarijance povrata"
      ]
    },
    {
      "cell_type": "markdown",
      "metadata": {
        "id": "5LQFOnwx8mBD"
      },
      "source": [
        "1.1. U prvom zadatku ove laboratorijske vježbe potrebno je prvo iz danih cijena (gore učitanih u Pandas DataFrame) izračunati dnevne povrate za sve pojedine vrijednosnice (prateći formulu danu u uvodu). \n",
        "\n",
        "Izračunajte srednje povrate i volatilnost (standardnu devijaciju povrata) za svaku pojedinu vrijednosnicu. Pri analizi srednjih povrata i volatilnosti, te se brojke često *anualiziraju* - to znači da se srednji povrati pomnože s $252$ (cca. broj trgovinskih dana u godini), a volatilnost s $\\sqrt{252}$. Izračunajte anualizirane srednje povrate i volatilnosti te rezultate ispišite u konzolu. \n"
      ]
    },
    {
      "cell_type": "code",
      "metadata": {
        "id": "mltE-yPKGdaf"
      },
      "source": [
        "#Vaš kod ide ovdje"
      ],
      "execution_count": null,
      "outputs": []
    },
    {
      "cell_type": "markdown",
      "metadata": {
        "id": "fzZ8zgxqGj_9"
      },
      "source": [
        "1.2 Koristeći dnevne povrate, potrebno je izračunati matricu kovarijance $\\Sigma$ i matricu korelacije $C$ svih ETF-ova. Kovarijancu i korelaciju moguće je iz podataka izračunati koristeći Pandas, ali i NumPy ili neke druge biblioteke. Matrice ispišite u konzolu ili vizualizirajte. "
      ]
    },
    {
      "cell_type": "code",
      "metadata": {
        "id": "kd6uSMtQw2Yu"
      },
      "source": [
        "#Vaš kod ide ovdje"
      ],
      "execution_count": null,
      "outputs": []
    },
    {
      "cell_type": "markdown",
      "metadata": {
        "id": "ZO3GqH2Y0Ky9"
      },
      "source": [
        "# Zadatak 2 - Analiza glavnih komponenti\n",
        "\n",
        "2.1. Izračunajte svojstvene vektore i pripadajuće svojstvene vrijednosti matrice kovarijance povrata $\\Sigma$ (svojstvenu dekompoziciju možete pronaći u sklopu biblioteke NumPy https://numpy.org/doc/stable/reference/generated/numpy.linalg.eig.html). Poredajte komponente padajući po svojstvenim vrijednostima i prikažite svojstvene vrijednosti grafički.\n"
      ]
    },
    {
      "cell_type": "code",
      "metadata": {
        "id": "UTo32HZi0JsP"
      },
      "source": [
        "#Vaš kod ide ovdje"
      ],
      "execution_count": null,
      "outputs": []
    },
    {
      "cell_type": "markdown",
      "metadata": {
        "id": "sp-II9bbH_CL"
      },
      "source": [
        "2.2. Izračunajte koliki udio varijance objašnjavaju prve dvije komponente?"
      ]
    },
    {
      "cell_type": "code",
      "metadata": {
        "id": "MPeVSO8AIpwp"
      },
      "source": [
        "#Vaš kod ide ovdje"
      ],
      "execution_count": null,
      "outputs": []
    },
    {
      "cell_type": "markdown",
      "metadata": {
        "id": "R_vvIr-aI1N_"
      },
      "source": [
        "2.3. Komponente PCA će u financijama često opisivati neke zajedničke faktore u podatcima, što je moguće analizirati promatranjem pojedinih elemenata svojstvenih vektora. Ako je neki element određenog svojstvenog vektora velik po magnitudi (pozitivan ili negativan), to znači da ta komponenta opisuje odgovarajuću vrijednosnicu i objašnjava njenu varijancu, za razliku od slučaja kad je element blizu 0, što znači da razmatrana vrijednosnica ne ovisi previše o toj komponenti.  Ispišite (ili grafički prikažite) elemente prva dva svojstvena vektora. Pritom pripazite na to što vraća funkcija koju koristite i u kojoj se dimenziji (stupac ili red) nalaze svojstveni vektori.\n",
        "\n",
        "S obzirom na to koje vrijednosnice opisuju prve dvije komponente, možete li zaključiti koju klasu imovine opisuje prva komponenta (koja odgovara prvom svojstvenom vektoru), a koju klasu druga komponenta? (*odgovor napišite u nastavku*)"
      ]
    },
    {
      "cell_type": "code",
      "metadata": {
        "id": "CnU85Ww0J1v2"
      },
      "source": [
        "#Vaš kod ide ovdje"
      ],
      "execution_count": null,
      "outputs": []
    },
    {
      "cell_type": "markdown",
      "metadata": {
        "id": "s8PSPkBbP59u"
      },
      "source": [
        "2.4. Ponovite prethodnu analizu za matricu korelacije povrata $C$. Koliki udio varijance u tom sučaju objašnjavaju prve dvije komponente? Usporedite elemente prva dva svojstvena vektora u ovom slučaju i u prethodnom slučaju - razlikuje li se interpretacija i kako? (*odgovor napišite u nastavku*)"
      ]
    },
    {
      "cell_type": "code",
      "metadata": {
        "id": "eGxj8yIEQcBj"
      },
      "source": [
        "#Vaš kod ide ovdje"
      ],
      "execution_count": null,
      "outputs": []
    },
    {
      "cell_type": "markdown",
      "metadata": {
        "id": "e2MEVouBJ8mg"
      },
      "source": [
        "# Zadatak 3 - Svojstveni portfelji\n",
        "\n",
        "U primjeni PCA i svojstvenoj dekompoziciji kovarijance u financijama, svojstveni vektori se često zovu i tzv. svojstveni portfelji. \n",
        "\n",
        "Općenito, portfelj je vektor $w = [w_1,...,w_N]$ u kojem svaki element predstavlja težinu ili udio kapitala u određenoj vrijednosnici. Često je dobro pomnožiti njihove težine s predznakom njihove sume - na taj način zapravo samo \"okrećemo\" predznak svojstvenog vektora tako da mu je suma pozitivna (konačni PCA rastav je i dalje isti ako svojstveni vektor pomnožimo s -1). Također, dobro je i skalirati svojstvene portfelje sa sumom njihovih apsolutnih vrijednosti:\n",
        "\n",
        "$\\tilde{w}_i = \\frac{w_i}{\\sum_j^N{\\vert w_j \\vert}}$.\n",
        "\n",
        "Na taj način se osigurava da visoke magnitude pojedinih elemenata ne uzrokuju velike razlike u volatilnostima svojstvenih portfelja.\n",
        "\n",
        "Ukoliko znamo povrate $R\\in\\mathbb{R}^{T\\times N}$ (gdje je $R_i\\in\\mathbb{R}^{T}$ vektor povrata za vrijednosnicu $i$) za $N$ vrijednosnica u nekom vremenskom periodu od $T$ dana, povrate portfelja $w$ u tom istom periodu možemo izračunati kao:\n",
        "\n",
        "$R_p = \\sum{R_i w_i} = R\\cdot w$.\n",
        "\n",
        "\n",
        "Izračunajte skalirane svojstvene portfelje $\\tilde{w}$ koji proizlaze iz prve dvije glavne komponente dobivene iz matrice kovarijance $\\Sigma$. Za ta dva svojstvena portfelja izračunajte povijesne povrate kroz razmatrani period. Grafički prikažite vremensko kretanje njihovih vrijednosti (njihove povrate \"vratite\" natrag u cijene, s tim da početna cijena bude jednak za oba portfelja, npr. 100). Također izračunajte anualizirane srednje vrijednosti i volatilnosti svojstvenih portfelja.\n",
        "\n"
      ]
    },
    {
      "cell_type": "code",
      "metadata": {
        "id": "Yo0rDm6GUrr2"
      },
      "source": [
        "#Vaš kod ide ovdje"
      ],
      "execution_count": null,
      "outputs": []
    },
    {
      "cell_type": "markdown",
      "metadata": {
        "id": "Q8kMOz4EUsgC"
      },
      "source": [
        "Ako usporedite dobivene rezultate s kretanjem cijena originalnih vrijednosnica, vidjet ćete sličnosti između vrijednosnica koje pripadaju određenim klasama imovina i pojedinih svojstvenih portfelja. Svojstveni portfelji dakle predstavljaju niže-dimenzionalan prostor tzv. sintetičkih vrijednosnica (u našem slučaju 2 umjesto originalnih 8) koje najbolje opisuju cijeli razmatrani skup podataka. Dobra procjena tih komponenti je ključna u razumijevanju zajedničkog kretanja većih skupova dionica i upravljanju financijskim rizikom."
      ]
    }
  ]
}